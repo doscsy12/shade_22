{
 "cells": [
  {
   "cell_type": "markdown",
   "id": "1cfe791c",
   "metadata": {},
   "source": [
    "## Datathon "
   ]
  },
  {
   "cell_type": "code",
   "execution_count": 1,
   "id": "a2afae9b",
   "metadata": {},
   "outputs": [],
   "source": [
    "import pandas as pd\n",
    "import numpy as np\n",
    "import matplotlib.pyplot as plt\n",
    "%matplotlib inline\n",
    "import seaborn as sns \n",
    "\n",
    "from scipy import stats\n",
    "# from pandas_profiling import ProfileReport\n"
   ]
  },
  {
   "cell_type": "code",
   "execution_count": 2,
   "id": "cc8b8d79",
   "metadata": {},
   "outputs": [],
   "source": [
    "pd.set_option('display.max_rows', 200)\n",
    "pd.set_option('display.max_columns', 25)"
   ]
  },
  {
   "cell_type": "code",
   "execution_count": 3,
   "id": "262ae8a4",
   "metadata": {},
   "outputs": [],
   "source": [
    "df = pd.read_csv('.\\data\\data-1.csv')"
   ]
  },
  {
   "cell_type": "code",
   "execution_count": 4,
   "id": "3181a869",
   "metadata": {},
   "outputs": [
    {
     "data": {
      "text/html": [
       "<div>\n",
       "<style scoped>\n",
       "    .dataframe tbody tr th:only-of-type {\n",
       "        vertical-align: middle;\n",
       "    }\n",
       "\n",
       "    .dataframe tbody tr th {\n",
       "        vertical-align: top;\n",
       "    }\n",
       "\n",
       "    .dataframe thead th {\n",
       "        text-align: right;\n",
       "    }\n",
       "</style>\n",
       "<table border=\"1\" class=\"dataframe\">\n",
       "  <thead>\n",
       "    <tr style=\"text-align: right;\">\n",
       "      <th></th>\n",
       "      <th>subject_id</th>\n",
       "      <th>hospital_expire_flag</th>\n",
       "      <th>deathtime</th>\n",
       "      <th>gender</th>\n",
       "      <th>anchor_age</th>\n",
       "      <th>dod</th>\n",
       "      <th>valuenum</th>\n",
       "      <th>valueuom</th>\n",
       "      <th>itemid</th>\n",
       "      <th>charttime</th>\n",
       "      <th>storetime</th>\n",
       "      <th>icu_intime</th>\n",
       "      <th>icu_outtime</th>\n",
       "      <th>aspirin</th>\n",
       "      <th>p2y12</th>\n",
       "      <th>other_antiplatelet</th>\n",
       "      <th>starttime</th>\n",
       "      <th>stoptime</th>\n",
       "    </tr>\n",
       "  </thead>\n",
       "  <tbody>\n",
       "    <tr>\n",
       "      <th>0</th>\n",
       "      <td>10881690</td>\n",
       "      <td>0</td>\n",
       "      <td>NaN</td>\n",
       "      <td>F</td>\n",
       "      <td>74</td>\n",
       "      <td>NaN</td>\n",
       "      <td>4.9</td>\n",
       "      <td>g/dL</td>\n",
       "      <td>51222</td>\n",
       "      <td>25/4/2163 14:26</td>\n",
       "      <td>25/4/2163 15:20</td>\n",
       "      <td>25/4/2163 10:42</td>\n",
       "      <td>30/4/2163 22:43</td>\n",
       "      <td>0</td>\n",
       "      <td>0</td>\n",
       "      <td>1</td>\n",
       "      <td>25/4/2163 13:00</td>\n",
       "      <td>25/4/2163 13:00</td>\n",
       "    </tr>\n",
       "    <tr>\n",
       "      <th>1</th>\n",
       "      <td>10881690</td>\n",
       "      <td>0</td>\n",
       "      <td>NaN</td>\n",
       "      <td>F</td>\n",
       "      <td>74</td>\n",
       "      <td>NaN</td>\n",
       "      <td>4.8</td>\n",
       "      <td>g/dL</td>\n",
       "      <td>51222</td>\n",
       "      <td>25/4/2163 16:15</td>\n",
       "      <td>25/4/2163 16:48</td>\n",
       "      <td>25/4/2163 10:42</td>\n",
       "      <td>30/4/2163 22:43</td>\n",
       "      <td>0</td>\n",
       "      <td>0</td>\n",
       "      <td>1</td>\n",
       "      <td>25/4/2163 13:00</td>\n",
       "      <td>25/4/2163 13:00</td>\n",
       "    </tr>\n",
       "    <tr>\n",
       "      <th>2</th>\n",
       "      <td>10881690</td>\n",
       "      <td>0</td>\n",
       "      <td>NaN</td>\n",
       "      <td>F</td>\n",
       "      <td>74</td>\n",
       "      <td>NaN</td>\n",
       "      <td>8.6</td>\n",
       "      <td>g/dL</td>\n",
       "      <td>51222</td>\n",
       "      <td>25/4/2163 19:36</td>\n",
       "      <td>25/4/2163 20:16</td>\n",
       "      <td>25/4/2163 10:42</td>\n",
       "      <td>30/4/2163 22:43</td>\n",
       "      <td>0</td>\n",
       "      <td>0</td>\n",
       "      <td>1</td>\n",
       "      <td>25/4/2163 13:00</td>\n",
       "      <td>25/4/2163 13:00</td>\n",
       "    </tr>\n",
       "    <tr>\n",
       "      <th>3</th>\n",
       "      <td>10881690</td>\n",
       "      <td>0</td>\n",
       "      <td>NaN</td>\n",
       "      <td>F</td>\n",
       "      <td>74</td>\n",
       "      <td>NaN</td>\n",
       "      <td>9.0</td>\n",
       "      <td>g/dL</td>\n",
       "      <td>51222</td>\n",
       "      <td>25/4/2163 23:29</td>\n",
       "      <td>25/4/2163 23:58</td>\n",
       "      <td>25/4/2163 10:42</td>\n",
       "      <td>30/4/2163 22:43</td>\n",
       "      <td>0</td>\n",
       "      <td>0</td>\n",
       "      <td>1</td>\n",
       "      <td>25/4/2163 13:00</td>\n",
       "      <td>25/4/2163 13:00</td>\n",
       "    </tr>\n",
       "    <tr>\n",
       "      <th>4</th>\n",
       "      <td>10881690</td>\n",
       "      <td>0</td>\n",
       "      <td>NaN</td>\n",
       "      <td>F</td>\n",
       "      <td>74</td>\n",
       "      <td>NaN</td>\n",
       "      <td>8.2</td>\n",
       "      <td>g/dL</td>\n",
       "      <td>51222</td>\n",
       "      <td>26/4/2163 3:36</td>\n",
       "      <td>26/4/2163 4:18</td>\n",
       "      <td>25/4/2163 10:42</td>\n",
       "      <td>30/4/2163 22:43</td>\n",
       "      <td>0</td>\n",
       "      <td>0</td>\n",
       "      <td>1</td>\n",
       "      <td>25/4/2163 13:00</td>\n",
       "      <td>25/4/2163 13:00</td>\n",
       "    </tr>\n",
       "  </tbody>\n",
       "</table>\n",
       "</div>"
      ],
      "text/plain": [
       "   subject_id  hospital_expire_flag deathtime gender  anchor_age  dod  \\\n",
       "0    10881690                     0       NaN      F          74  NaN   \n",
       "1    10881690                     0       NaN      F          74  NaN   \n",
       "2    10881690                     0       NaN      F          74  NaN   \n",
       "3    10881690                     0       NaN      F          74  NaN   \n",
       "4    10881690                     0       NaN      F          74  NaN   \n",
       "\n",
       "   valuenum valueuom  itemid        charttime        storetime  \\\n",
       "0       4.9     g/dL   51222  25/4/2163 14:26  25/4/2163 15:20   \n",
       "1       4.8     g/dL   51222  25/4/2163 16:15  25/4/2163 16:48   \n",
       "2       8.6     g/dL   51222  25/4/2163 19:36  25/4/2163 20:16   \n",
       "3       9.0     g/dL   51222  25/4/2163 23:29  25/4/2163 23:58   \n",
       "4       8.2     g/dL   51222   26/4/2163 3:36   26/4/2163 4:18   \n",
       "\n",
       "        icu_intime      icu_outtime  aspirin  p2y12  other_antiplatelet  \\\n",
       "0  25/4/2163 10:42  30/4/2163 22:43        0      0                   1   \n",
       "1  25/4/2163 10:42  30/4/2163 22:43        0      0                   1   \n",
       "2  25/4/2163 10:42  30/4/2163 22:43        0      0                   1   \n",
       "3  25/4/2163 10:42  30/4/2163 22:43        0      0                   1   \n",
       "4  25/4/2163 10:42  30/4/2163 22:43        0      0                   1   \n",
       "\n",
       "         starttime         stoptime  \n",
       "0  25/4/2163 13:00  25/4/2163 13:00  \n",
       "1  25/4/2163 13:00  25/4/2163 13:00  \n",
       "2  25/4/2163 13:00  25/4/2163 13:00  \n",
       "3  25/4/2163 13:00  25/4/2163 13:00  \n",
       "4  25/4/2163 13:00  25/4/2163 13:00  "
      ]
     },
     "execution_count": 4,
     "metadata": {},
     "output_type": "execute_result"
    }
   ],
   "source": [
    "df.head()"
   ]
  },
  {
   "cell_type": "code",
   "execution_count": 5,
   "id": "1da6c0af",
   "metadata": {},
   "outputs": [
    {
     "name": "stdout",
     "output_type": "stream",
     "text": [
      "<class 'pandas.core.frame.DataFrame'>\n",
      "RangeIndex: 245361 entries, 0 to 245360\n",
      "Data columns (total 18 columns):\n",
      " #   Column                Non-Null Count   Dtype  \n",
      "---  ------                --------------   -----  \n",
      " 0   subject_id            245361 non-null  int64  \n",
      " 1   hospital_expire_flag  245361 non-null  int64  \n",
      " 2   deathtime             35338 non-null   object \n",
      " 3   gender                245361 non-null  object \n",
      " 4   anchor_age            245361 non-null  int64  \n",
      " 5   dod                   91201 non-null   object \n",
      " 6   valuenum              245361 non-null  float64\n",
      " 7   valueuom              245361 non-null  object \n",
      " 8   itemid                245361 non-null  int64  \n",
      " 9   charttime             245361 non-null  object \n",
      " 10  storetime             245361 non-null  object \n",
      " 11  icu_intime            245361 non-null  object \n",
      " 12  icu_outtime           245361 non-null  object \n",
      " 13  aspirin               245361 non-null  int64  \n",
      " 14  p2y12                 245361 non-null  int64  \n",
      " 15  other_antiplatelet    245361 non-null  int64  \n",
      " 16  starttime             245361 non-null  object \n",
      " 17  stoptime              245319 non-null  object \n",
      "dtypes: float64(1), int64(7), object(10)\n",
      "memory usage: 33.7+ MB\n"
     ]
    }
   ],
   "source": [
    "df.info()"
   ]
  },
  {
   "cell_type": "markdown",
   "id": "cc989908",
   "metadata": {},
   "source": [
    "<span style='color:red'>earliest starttime/stoptime where medication of interest (aspirin/blah blah) is '1' \n",
    "<br> itemid identifying for lab measurement for hemoglo... charttime</span>"
   ]
  },
  {
   "cell_type": "markdown",
   "id": "b2813697",
   "metadata": {},
   "source": [
    "(1) earliest time when itemid (aspirin/p2y12/other_antiplatelet)==1\n",
    "<br> (2) earliest time when itemid (hemo)==1 "
   ]
  },
  {
   "cell_type": "code",
   "execution_count": 6,
   "id": "e8ba4158",
   "metadata": {},
   "outputs": [
    {
     "data": {
      "text/plain": [
       "subject_id                   0\n",
       "hospital_expire_flag         0\n",
       "deathtime               210023\n",
       "gender                       0\n",
       "anchor_age                   0\n",
       "dod                     154160\n",
       "valuenum                     0\n",
       "valueuom                     0\n",
       "itemid                       0\n",
       "charttime                    0\n",
       "storetime                    0\n",
       "icu_intime                   0\n",
       "icu_outtime                  0\n",
       "aspirin                      0\n",
       "p2y12                        0\n",
       "other_antiplatelet           0\n",
       "starttime                    0\n",
       "stoptime                    42\n",
       "dtype: int64"
      ]
     },
     "execution_count": 6,
     "metadata": {},
     "output_type": "execute_result"
    }
   ],
   "source": [
    "df.isnull().sum()"
   ]
  },
  {
   "cell_type": "code",
   "execution_count": 7,
   "id": "5e368dbd",
   "metadata": {},
   "outputs": [
    {
     "data": {
      "text/plain": [
       "0        NaT\n",
       "1        NaT\n",
       "2        NaT\n",
       "3        NaT\n",
       "4        NaT\n",
       "          ..\n",
       "245356   NaT\n",
       "245357   NaT\n",
       "245358   NaT\n",
       "245359   NaT\n",
       "245360   NaT\n",
       "Name: deathtime, Length: 245361, dtype: datetime64[ns]"
      ]
     },
     "execution_count": 7,
     "metadata": {},
     "output_type": "execute_result"
    }
   ],
   "source": [
    "pd.to_datetime(df['deathtime'])"
   ]
  },
  {
   "cell_type": "code",
   "execution_count": 8,
   "id": "c0375ace",
   "metadata": {},
   "outputs": [
    {
     "data": {
      "text/html": [
       "<div>\n",
       "<style scoped>\n",
       "    .dataframe tbody tr th:only-of-type {\n",
       "        vertical-align: middle;\n",
       "    }\n",
       "\n",
       "    .dataframe tbody tr th {\n",
       "        vertical-align: top;\n",
       "    }\n",
       "\n",
       "    .dataframe thead th {\n",
       "        text-align: right;\n",
       "    }\n",
       "</style>\n",
       "<table border=\"1\" class=\"dataframe\">\n",
       "  <thead>\n",
       "    <tr style=\"text-align: right;\">\n",
       "      <th></th>\n",
       "      <th>dod</th>\n",
       "    </tr>\n",
       "  </thead>\n",
       "  <tbody>\n",
       "    <tr>\n",
       "      <th>76</th>\n",
       "      <td>23/9/2154</td>\n",
       "    </tr>\n",
       "    <tr>\n",
       "      <th>77</th>\n",
       "      <td>23/9/2154</td>\n",
       "    </tr>\n",
       "    <tr>\n",
       "      <th>78</th>\n",
       "      <td>23/9/2154</td>\n",
       "    </tr>\n",
       "    <tr>\n",
       "      <th>79</th>\n",
       "      <td>23/9/2154</td>\n",
       "    </tr>\n",
       "    <tr>\n",
       "      <th>80</th>\n",
       "      <td>23/9/2154</td>\n",
       "    </tr>\n",
       "    <tr>\n",
       "      <th>...</th>\n",
       "      <td>...</td>\n",
       "    </tr>\n",
       "    <tr>\n",
       "      <th>245155</th>\n",
       "      <td>20/2/2124</td>\n",
       "    </tr>\n",
       "    <tr>\n",
       "      <th>245156</th>\n",
       "      <td>20/2/2124</td>\n",
       "    </tr>\n",
       "    <tr>\n",
       "      <th>245157</th>\n",
       "      <td>20/2/2124</td>\n",
       "    </tr>\n",
       "    <tr>\n",
       "      <th>245158</th>\n",
       "      <td>20/2/2124</td>\n",
       "    </tr>\n",
       "    <tr>\n",
       "      <th>245159</th>\n",
       "      <td>20/2/2124</td>\n",
       "    </tr>\n",
       "  </tbody>\n",
       "</table>\n",
       "<p>91201 rows × 1 columns</p>\n",
       "</div>"
      ],
      "text/plain": [
       "              dod\n",
       "76      23/9/2154\n",
       "77      23/9/2154\n",
       "78      23/9/2154\n",
       "79      23/9/2154\n",
       "80      23/9/2154\n",
       "...           ...\n",
       "245155  20/2/2124\n",
       "245156  20/2/2124\n",
       "245157  20/2/2124\n",
       "245158  20/2/2124\n",
       "245159  20/2/2124\n",
       "\n",
       "[91201 rows x 1 columns]"
      ]
     },
     "execution_count": 8,
     "metadata": {},
     "output_type": "execute_result"
    }
   ],
   "source": [
    "# makes no sense\n",
    "df[df['dod'].notna()][['dod']]"
   ]
  },
  {
   "cell_type": "code",
   "execution_count": 9,
   "id": "d8167973",
   "metadata": {},
   "outputs": [],
   "source": [
    "# convert to datetime\n",
    "df['deathtime_dt'] = pd.to_datetime(df['deathtime'])\n",
    "df['charttime_dt'] = pd.to_datetime(df['charttime'])\n",
    "df['storetime_dt'] = pd.to_datetime(df['storetime'])\n",
    "df['icu_intime_dt'] = pd.to_datetime(df['icu_intime'])\n",
    "df['icu_outtime_dt'] = pd.to_datetime(df['icu_outtime'])\n",
    "df['starttime_dt'] = pd.to_datetime(df['starttime'])\n",
    "df['stoptime_dt'] = pd.to_datetime(df['stoptime'])"
   ]
  },
  {
   "cell_type": "code",
   "execution_count": 10,
   "id": "4f7d8704",
   "metadata": {},
   "outputs": [
    {
     "name": "stdout",
     "output_type": "stream",
     "text": [
      "<class 'pandas.core.frame.DataFrame'>\n",
      "RangeIndex: 245361 entries, 0 to 245360\n",
      "Data columns (total 25 columns):\n",
      " #   Column                Non-Null Count   Dtype         \n",
      "---  ------                --------------   -----         \n",
      " 0   subject_id            245361 non-null  int64         \n",
      " 1   hospital_expire_flag  245361 non-null  int64         \n",
      " 2   deathtime             35338 non-null   object        \n",
      " 3   gender                245361 non-null  object        \n",
      " 4   anchor_age            245361 non-null  int64         \n",
      " 5   dod                   91201 non-null   object        \n",
      " 6   valuenum              245361 non-null  float64       \n",
      " 7   valueuom              245361 non-null  object        \n",
      " 8   itemid                245361 non-null  int64         \n",
      " 9   charttime             245361 non-null  object        \n",
      " 10  storetime             245361 non-null  object        \n",
      " 11  icu_intime            245361 non-null  object        \n",
      " 12  icu_outtime           245361 non-null  object        \n",
      " 13  aspirin               245361 non-null  int64         \n",
      " 14  p2y12                 245361 non-null  int64         \n",
      " 15  other_antiplatelet    245361 non-null  int64         \n",
      " 16  starttime             245361 non-null  object        \n",
      " 17  stoptime              245319 non-null  object        \n",
      " 18  deathtime_dt          35338 non-null   datetime64[ns]\n",
      " 19  charttime_dt          245361 non-null  datetime64[ns]\n",
      " 20  storetime_dt          245361 non-null  datetime64[ns]\n",
      " 21  icu_intime_dt         245361 non-null  datetime64[ns]\n",
      " 22  icu_outtime_dt        245361 non-null  datetime64[ns]\n",
      " 23  starttime_dt          245361 non-null  datetime64[ns]\n",
      " 24  stoptime_dt           245319 non-null  datetime64[ns]\n",
      "dtypes: datetime64[ns](7), float64(1), int64(7), object(10)\n",
      "memory usage: 46.8+ MB\n"
     ]
    }
   ],
   "source": [
    "# double check datetime\n",
    "df.info()"
   ]
  },
  {
   "cell_type": "code",
   "execution_count": 11,
   "id": "8778a575",
   "metadata": {},
   "outputs": [
    {
     "data": {
      "text/plain": [
       "M    0.626836\n",
       "F    0.373164\n",
       "Name: gender, dtype: float64"
      ]
     },
     "execution_count": 11,
     "metadata": {},
     "output_type": "execute_result"
    }
   ],
   "source": [
    "# unique value\n",
    "df['gender'].value_counts(normalize=True)"
   ]
  },
  {
   "cell_type": "code",
   "execution_count": 12,
   "id": "4e5f77f7",
   "metadata": {},
   "outputs": [],
   "source": [
    "# convert dod to mortality if value exists\n",
    "df['mortality_dod'] = df['dod'].apply(lambda x: 0 if  x is np.nan else 1)"
   ]
  },
  {
   "cell_type": "code",
   "execution_count": 13,
   "id": "7494c57a",
   "metadata": {},
   "outputs": [],
   "source": [
    "# convert deathtime to mortality if value exists\n",
    "df['mortality_deathtime'] = df['deathtime'].apply(lambda x: 0 if  x is np.nan else 1)"
   ]
  },
  {
   "cell_type": "code",
   "execution_count": 14,
   "id": "56a3a448",
   "metadata": {},
   "outputs": [
    {
     "data": {
      "text/html": [
       "<div>\n",
       "<style scoped>\n",
       "    .dataframe tbody tr th:only-of-type {\n",
       "        vertical-align: middle;\n",
       "    }\n",
       "\n",
       "    .dataframe tbody tr th {\n",
       "        vertical-align: top;\n",
       "    }\n",
       "\n",
       "    .dataframe thead th {\n",
       "        text-align: right;\n",
       "    }\n",
       "</style>\n",
       "<table border=\"1\" class=\"dataframe\">\n",
       "  <thead>\n",
       "    <tr style=\"text-align: right;\">\n",
       "      <th></th>\n",
       "      <th>mortality_dod</th>\n",
       "      <th>dod</th>\n",
       "    </tr>\n",
       "  </thead>\n",
       "  <tbody>\n",
       "    <tr>\n",
       "      <th>76</th>\n",
       "      <td>1</td>\n",
       "      <td>23/9/2154</td>\n",
       "    </tr>\n",
       "    <tr>\n",
       "      <th>77</th>\n",
       "      <td>1</td>\n",
       "      <td>23/9/2154</td>\n",
       "    </tr>\n",
       "    <tr>\n",
       "      <th>78</th>\n",
       "      <td>1</td>\n",
       "      <td>23/9/2154</td>\n",
       "    </tr>\n",
       "    <tr>\n",
       "      <th>79</th>\n",
       "      <td>1</td>\n",
       "      <td>23/9/2154</td>\n",
       "    </tr>\n",
       "    <tr>\n",
       "      <th>80</th>\n",
       "      <td>1</td>\n",
       "      <td>23/9/2154</td>\n",
       "    </tr>\n",
       "    <tr>\n",
       "      <th>...</th>\n",
       "      <td>...</td>\n",
       "      <td>...</td>\n",
       "    </tr>\n",
       "    <tr>\n",
       "      <th>245155</th>\n",
       "      <td>1</td>\n",
       "      <td>20/2/2124</td>\n",
       "    </tr>\n",
       "    <tr>\n",
       "      <th>245156</th>\n",
       "      <td>1</td>\n",
       "      <td>20/2/2124</td>\n",
       "    </tr>\n",
       "    <tr>\n",
       "      <th>245157</th>\n",
       "      <td>1</td>\n",
       "      <td>20/2/2124</td>\n",
       "    </tr>\n",
       "    <tr>\n",
       "      <th>245158</th>\n",
       "      <td>1</td>\n",
       "      <td>20/2/2124</td>\n",
       "    </tr>\n",
       "    <tr>\n",
       "      <th>245159</th>\n",
       "      <td>1</td>\n",
       "      <td>20/2/2124</td>\n",
       "    </tr>\n",
       "  </tbody>\n",
       "</table>\n",
       "<p>91201 rows × 2 columns</p>\n",
       "</div>"
      ],
      "text/plain": [
       "        mortality_dod        dod\n",
       "76                  1  23/9/2154\n",
       "77                  1  23/9/2154\n",
       "78                  1  23/9/2154\n",
       "79                  1  23/9/2154\n",
       "80                  1  23/9/2154\n",
       "...               ...        ...\n",
       "245155              1  20/2/2124\n",
       "245156              1  20/2/2124\n",
       "245157              1  20/2/2124\n",
       "245158              1  20/2/2124\n",
       "245159              1  20/2/2124\n",
       "\n",
       "[91201 rows x 2 columns]"
      ]
     },
     "execution_count": 14,
     "metadata": {},
     "output_type": "execute_result"
    }
   ],
   "source": [
    "# double check\n",
    "df[df['mortality_dod']==1][['mortality_dod','dod']]"
   ]
  },
  {
   "cell_type": "code",
   "execution_count": 15,
   "id": "6ced7d56",
   "metadata": {},
   "outputs": [
    {
     "data": {
      "text/html": [
       "<div>\n",
       "<style scoped>\n",
       "    .dataframe tbody tr th:only-of-type {\n",
       "        vertical-align: middle;\n",
       "    }\n",
       "\n",
       "    .dataframe tbody tr th {\n",
       "        vertical-align: top;\n",
       "    }\n",
       "\n",
       "    .dataframe thead th {\n",
       "        text-align: right;\n",
       "    }\n",
       "</style>\n",
       "<table border=\"1\" class=\"dataframe\">\n",
       "  <thead>\n",
       "    <tr style=\"text-align: right;\">\n",
       "      <th></th>\n",
       "      <th>mortality_dod</th>\n",
       "      <th>dod</th>\n",
       "    </tr>\n",
       "  </thead>\n",
       "  <tbody>\n",
       "    <tr>\n",
       "      <th>0</th>\n",
       "      <td>0</td>\n",
       "      <td>NaN</td>\n",
       "    </tr>\n",
       "    <tr>\n",
       "      <th>1</th>\n",
       "      <td>0</td>\n",
       "      <td>NaN</td>\n",
       "    </tr>\n",
       "    <tr>\n",
       "      <th>2</th>\n",
       "      <td>0</td>\n",
       "      <td>NaN</td>\n",
       "    </tr>\n",
       "    <tr>\n",
       "      <th>3</th>\n",
       "      <td>0</td>\n",
       "      <td>NaN</td>\n",
       "    </tr>\n",
       "    <tr>\n",
       "      <th>4</th>\n",
       "      <td>0</td>\n",
       "      <td>NaN</td>\n",
       "    </tr>\n",
       "    <tr>\n",
       "      <th>...</th>\n",
       "      <td>...</td>\n",
       "      <td>...</td>\n",
       "    </tr>\n",
       "    <tr>\n",
       "      <th>245356</th>\n",
       "      <td>0</td>\n",
       "      <td>NaN</td>\n",
       "    </tr>\n",
       "    <tr>\n",
       "      <th>245357</th>\n",
       "      <td>0</td>\n",
       "      <td>NaN</td>\n",
       "    </tr>\n",
       "    <tr>\n",
       "      <th>245358</th>\n",
       "      <td>0</td>\n",
       "      <td>NaN</td>\n",
       "    </tr>\n",
       "    <tr>\n",
       "      <th>245359</th>\n",
       "      <td>0</td>\n",
       "      <td>NaN</td>\n",
       "    </tr>\n",
       "    <tr>\n",
       "      <th>245360</th>\n",
       "      <td>0</td>\n",
       "      <td>NaN</td>\n",
       "    </tr>\n",
       "  </tbody>\n",
       "</table>\n",
       "<p>154160 rows × 2 columns</p>\n",
       "</div>"
      ],
      "text/plain": [
       "        mortality_dod  dod\n",
       "0                   0  NaN\n",
       "1                   0  NaN\n",
       "2                   0  NaN\n",
       "3                   0  NaN\n",
       "4                   0  NaN\n",
       "...               ...  ...\n",
       "245356              0  NaN\n",
       "245357              0  NaN\n",
       "245358              0  NaN\n",
       "245359              0  NaN\n",
       "245360              0  NaN\n",
       "\n",
       "[154160 rows x 2 columns]"
      ]
     },
     "execution_count": 15,
     "metadata": {},
     "output_type": "execute_result"
    }
   ],
   "source": [
    "# double check\n",
    "df[df['mortality_dod']==0][['mortality_dod','dod']]"
   ]
  },
  {
   "cell_type": "code",
   "execution_count": 16,
   "id": "57444d6c",
   "metadata": {},
   "outputs": [
    {
     "data": {
      "text/html": [
       "<div>\n",
       "<style scoped>\n",
       "    .dataframe tbody tr th:only-of-type {\n",
       "        vertical-align: middle;\n",
       "    }\n",
       "\n",
       "    .dataframe tbody tr th {\n",
       "        vertical-align: top;\n",
       "    }\n",
       "\n",
       "    .dataframe thead th {\n",
       "        text-align: right;\n",
       "    }\n",
       "</style>\n",
       "<table border=\"1\" class=\"dataframe\">\n",
       "  <thead>\n",
       "    <tr style=\"text-align: right;\">\n",
       "      <th></th>\n",
       "      <th>mortality_deathtime</th>\n",
       "      <th>dod</th>\n",
       "    </tr>\n",
       "  </thead>\n",
       "  <tbody>\n",
       "    <tr>\n",
       "      <th>76</th>\n",
       "      <td>1</td>\n",
       "      <td>23/9/2154</td>\n",
       "    </tr>\n",
       "    <tr>\n",
       "      <th>77</th>\n",
       "      <td>1</td>\n",
       "      <td>23/9/2154</td>\n",
       "    </tr>\n",
       "    <tr>\n",
       "      <th>78</th>\n",
       "      <td>1</td>\n",
       "      <td>23/9/2154</td>\n",
       "    </tr>\n",
       "    <tr>\n",
       "      <th>79</th>\n",
       "      <td>1</td>\n",
       "      <td>23/9/2154</td>\n",
       "    </tr>\n",
       "    <tr>\n",
       "      <th>80</th>\n",
       "      <td>1</td>\n",
       "      <td>23/9/2154</td>\n",
       "    </tr>\n",
       "    <tr>\n",
       "      <th>...</th>\n",
       "      <td>...</td>\n",
       "      <td>...</td>\n",
       "    </tr>\n",
       "    <tr>\n",
       "      <th>244569</th>\n",
       "      <td>1</td>\n",
       "      <td>25/1/2118</td>\n",
       "    </tr>\n",
       "    <tr>\n",
       "      <th>244570</th>\n",
       "      <td>1</td>\n",
       "      <td>25/1/2118</td>\n",
       "    </tr>\n",
       "    <tr>\n",
       "      <th>244571</th>\n",
       "      <td>1</td>\n",
       "      <td>25/1/2118</td>\n",
       "    </tr>\n",
       "    <tr>\n",
       "      <th>244572</th>\n",
       "      <td>1</td>\n",
       "      <td>25/1/2118</td>\n",
       "    </tr>\n",
       "    <tr>\n",
       "      <th>244573</th>\n",
       "      <td>1</td>\n",
       "      <td>25/1/2118</td>\n",
       "    </tr>\n",
       "  </tbody>\n",
       "</table>\n",
       "<p>35338 rows × 2 columns</p>\n",
       "</div>"
      ],
      "text/plain": [
       "        mortality_deathtime        dod\n",
       "76                        1  23/9/2154\n",
       "77                        1  23/9/2154\n",
       "78                        1  23/9/2154\n",
       "79                        1  23/9/2154\n",
       "80                        1  23/9/2154\n",
       "...                     ...        ...\n",
       "244569                    1  25/1/2118\n",
       "244570                    1  25/1/2118\n",
       "244571                    1  25/1/2118\n",
       "244572                    1  25/1/2118\n",
       "244573                    1  25/1/2118\n",
       "\n",
       "[35338 rows x 2 columns]"
      ]
     },
     "execution_count": 16,
     "metadata": {},
     "output_type": "execute_result"
    }
   ],
   "source": [
    "# check predicted\n",
    "df[df['mortality_deathtime']==1][['mortality_deathtime','dod']]"
   ]
  },
  {
   "cell_type": "code",
   "execution_count": 17,
   "id": "b1da7a2e",
   "metadata": {},
   "outputs": [
    {
     "data": {
      "text/plain": [
       "0    0.628299\n",
       "1    0.371701\n",
       "Name: mortality_dod, dtype: float64"
      ]
     },
     "execution_count": 17,
     "metadata": {},
     "output_type": "execute_result"
    }
   ],
   "source": [
    "df['mortality_dod'].value_counts(normalize=True)"
   ]
  },
  {
   "cell_type": "code",
   "execution_count": 18,
   "id": "4d6a1155",
   "metadata": {},
   "outputs": [
    {
     "data": {
      "text/plain": [
       "0    0.855975\n",
       "1    0.144025\n",
       "Name: mortality_deathtime, dtype: float64"
      ]
     },
     "execution_count": 18,
     "metadata": {},
     "output_type": "execute_result"
    }
   ],
   "source": [
    "df['mortality_deathtime'].value_counts(normalize=True)"
   ]
  },
  {
   "cell_type": "markdown",
   "id": "cccb85a2",
   "metadata": {},
   "source": [
    "### numerical data"
   ]
  },
  {
   "cell_type": "code",
   "execution_count": 19,
   "id": "a660eb9a",
   "metadata": {},
   "outputs": [],
   "source": [
    "# num_df = df.select_dtypes(include=['int64','float64']).copy()\n",
    "num_df = df[['anchor_age','valuenum']]"
   ]
  },
  {
   "cell_type": "code",
   "execution_count": 20,
   "id": "241555b4",
   "metadata": {},
   "outputs": [
    {
     "name": "stdout",
     "output_type": "stream",
     "text": [
      "<class 'pandas.core.frame.DataFrame'>\n",
      "RangeIndex: 245361 entries, 0 to 245360\n",
      "Data columns (total 2 columns):\n",
      " #   Column      Non-Null Count   Dtype  \n",
      "---  ------      --------------   -----  \n",
      " 0   anchor_age  245361 non-null  int64  \n",
      " 1   valuenum    245361 non-null  float64\n",
      "dtypes: float64(1), int64(1)\n",
      "memory usage: 3.7 MB\n"
     ]
    }
   ],
   "source": [
    "num_df.info()"
   ]
  },
  {
   "cell_type": "code",
   "execution_count": 21,
   "id": "8388bb8d",
   "metadata": {},
   "outputs": [
    {
     "data": {
      "image/png": "[encoded data removed]",
      "text/plain": [
       "<Figure size 1080x3600 with 2 Axes>"
      ]
     },
     "metadata": {
      "needs_background": "light"
     },
     "output_type": "display_data"
    }
   ],
   "source": [
    "# plot overview distributions of numerical variables\n",
    "# determining number of columns\n",
    "ncols = 2\n",
    "cols = num_df.columns\n",
    "\n",
    "# determining number of rows\n",
    "nrows = round(int(np.ceil(len(num_df.columns)) / (1.0*ncols)))\n",
    "\n",
    "fig, axes = plt.subplots(nrows, ncols, figsize=(15,50))\n",
    "axes = axes.ravel()\n",
    "\n",
    "for col, ax in zip(cols, axes):\n",
    "    sns.histplot(data=num_df[col], kde=True, stat='density', ax=ax)\n",
    "\n",
    "plt.tight_layout();"
   ]
  },
  {
   "cell_type": "markdown",
   "id": "a536ab2d",
   "metadata": {},
   "source": [
    "**anchor_age**"
   ]
  },
  {
   "cell_type": "code",
   "execution_count": 22,
   "id": "05595480",
   "metadata": {},
   "outputs": [
    {
     "data": {
      "image/png": "[encoded data removed]",
      "text/plain": [
       "<Figure size 432x288 with 1 Axes>"
      ]
     },
     "metadata": {
      "needs_background": "light"
     },
     "output_type": "display_data"
    }
   ],
   "source": [
    "df.boxplot(column =['anchor_age'], grid = False);"
   ]
  },
  {
   "cell_type": "code",
   "execution_count": 23,
   "id": "fb54aa24",
   "metadata": {},
   "outputs": [
    {
     "data": {
      "text/plain": [
       "count    245361.000000\n",
       "mean         67.736246\n",
       "std          13.454805\n",
       "min          18.000000\n",
       "25%          59.000000\n",
       "50%          69.000000\n",
       "75%          78.000000\n",
       "max          91.000000\n",
       "Name: anchor_age, dtype: float64"
      ]
     },
     "execution_count": 23,
     "metadata": {},
     "output_type": "execute_result"
    }
   ],
   "source": [
    "df['anchor_age'].describe()"
   ]
  },
  {
   "cell_type": "markdown",
   "id": "3e6650c5",
   "metadata": {},
   "source": [
    "**valuenum**"
   ]
  },
  {
   "cell_type": "code",
   "execution_count": 24,
   "id": "9821ab1a",
   "metadata": {},
   "outputs": [
    {
     "data": {
      "image/png": "[encoded data removed]",
      "text/plain": [
       "<Figure size 432x288 with 1 Axes>"
      ]
     },
     "metadata": {
      "needs_background": "light"
     },
     "output_type": "display_data"
    }
   ],
   "source": [
    "df.boxplot(column =['valuenum'], grid = False);"
   ]
  },
  {
   "cell_type": "code",
   "execution_count": 25,
   "id": "9b1ab6ce",
   "metadata": {},
   "outputs": [
    {
     "data": {
      "text/plain": [
       "count    245361.000000\n",
       "mean          8.850248\n",
       "std           3.434529\n",
       "min           0.010000\n",
       "25%           8.000000\n",
       "50%           9.400000\n",
       "75%          10.800000\n",
       "max          42.600000\n",
       "Name: valuenum, dtype: float64"
      ]
     },
     "execution_count": 25,
     "metadata": {},
     "output_type": "execute_result"
    }
   ],
   "source": [
    "df['valuenum'].describe()"
   ]
  },
  {
   "cell_type": "markdown",
   "id": "fdfcf3ab",
   "metadata": {},
   "source": [
    "### categorical data"
   ]
  },
  {
   "cell_type": "code",
   "execution_count": 26,
   "id": "2fa6d387",
   "metadata": {},
   "outputs": [],
   "source": [
    "# select only categorical columns\n",
    "nom_df = df.select_dtypes(include='object').copy()"
   ]
  },
  {
   "cell_type": "code",
   "execution_count": 27,
   "id": "717617eb",
   "metadata": {},
   "outputs": [
    {
     "name": "stdout",
     "output_type": "stream",
     "text": [
      "<class 'pandas.core.frame.DataFrame'>\n",
      "RangeIndex: 245361 entries, 0 to 245360\n",
      "Data columns (total 10 columns):\n",
      " #   Column       Non-Null Count   Dtype \n",
      "---  ------       --------------   ----- \n",
      " 0   deathtime    35338 non-null   object\n",
      " 1   gender       245361 non-null  object\n",
      " 2   dod          91201 non-null   object\n",
      " 3   valueuom     245361 non-null  object\n",
      " 4   charttime    245361 non-null  object\n",
      " 5   storetime    245361 non-null  object\n",
      " 6   icu_intime   245361 non-null  object\n",
      " 7   icu_outtime  245361 non-null  object\n",
      " 8   starttime    245361 non-null  object\n",
      " 9   stoptime     245319 non-null  object\n",
      "dtypes: object(10)\n",
      "memory usage: 18.7+ MB\n"
     ]
    }
   ],
   "source": [
    "nom_df.info()"
   ]
  },
  {
   "cell_type": "code",
   "execution_count": 28,
   "id": "444acb5f",
   "metadata": {},
   "outputs": [
    {
     "data": {
      "text/plain": [
       "M    0.626836\n",
       "F    0.373164\n",
       "Name: gender, dtype: float64"
      ]
     },
     "execution_count": 28,
     "metadata": {},
     "output_type": "execute_result"
    }
   ],
   "source": [
    "nom_df['gender'].value_counts(normalize=True)"
   ]
  },
  {
   "cell_type": "markdown",
   "id": "b3631829",
   "metadata": {},
   "source": [
    "### earliest time when itemid (drug)==1\n",
    "<br> itemid (aspirin/p2y12/other_antiplatelet)==1"
   ]
  },
  {
   "cell_type": "markdown",
   "id": "cb29f53a",
   "metadata": {},
   "source": [
    "##### aspirin"
   ]
  },
  {
   "cell_type": "code",
   "execution_count": 29,
   "id": "d61c967c",
   "metadata": {},
   "outputs": [
    {
     "data": {
      "text/plain": [
       "16420"
      ]
     },
     "execution_count": 29,
     "metadata": {},
     "output_type": "execute_result"
    }
   ],
   "source": [
    "# number of subjects\n",
    "df['subject_id'].nunique()"
   ]
  },
  {
   "cell_type": "code",
   "execution_count": 30,
   "id": "ab304a62",
   "metadata": {},
   "outputs": [
    {
     "data": {
      "text/plain": [
       "starttime_dt   2189-06-27 11:00:00\n",
       "Name: 38090, dtype: datetime64[ns]"
      ]
     },
     "execution_count": 30,
     "metadata": {},
     "output_type": "execute_result"
    }
   ],
   "source": [
    "df[(df['subject_id']==10000980) & df['aspirin']==1][['starttime_dt']].iloc[0]"
   ]
  },
  {
   "cell_type": "code",
   "execution_count": 31,
   "id": "fef65b6a",
   "metadata": {},
   "outputs": [
    {
     "data": {
      "text/html": [
       "<div>\n",
       "<style scoped>\n",
       "    .dataframe tbody tr th:only-of-type {\n",
       "        vertical-align: middle;\n",
       "    }\n",
       "\n",
       "    .dataframe tbody tr th {\n",
       "        vertical-align: top;\n",
       "    }\n",
       "\n",
       "    .dataframe thead th {\n",
       "        text-align: right;\n",
       "    }\n",
       "</style>\n",
       "<table border=\"1\" class=\"dataframe\">\n",
       "  <thead>\n",
       "    <tr style=\"text-align: right;\">\n",
       "      <th></th>\n",
       "      <th>subject_id</th>\n",
       "      <th>aspirin</th>\n",
       "      <th>starttime_dt</th>\n",
       "    </tr>\n",
       "  </thead>\n",
       "  <tbody>\n",
       "    <tr>\n",
       "      <th>0</th>\n",
       "      <td>10000980</td>\n",
       "      <td>1</td>\n",
       "      <td>2189-06-27 11:00:00</td>\n",
       "    </tr>\n",
       "    <tr>\n",
       "      <th>1</th>\n",
       "      <td>10002013</td>\n",
       "      <td>1</td>\n",
       "      <td>2160-05-19 10:00:00</td>\n",
       "    </tr>\n",
       "    <tr>\n",
       "      <th>2</th>\n",
       "      <td>10002430</td>\n",
       "      <td>1</td>\n",
       "      <td>2129-06-13 04:00:00</td>\n",
       "    </tr>\n",
       "    <tr>\n",
       "      <th>3</th>\n",
       "      <td>10002495</td>\n",
       "      <td>1</td>\n",
       "      <td>2141-05-23 08:00:00</td>\n",
       "    </tr>\n",
       "    <tr>\n",
       "      <th>4</th>\n",
       "      <td>10002527</td>\n",
       "      <td>1</td>\n",
       "      <td>2136-03-25 10:00:00</td>\n",
       "    </tr>\n",
       "    <tr>\n",
       "      <th>5</th>\n",
       "      <td>10002760</td>\n",
       "      <td>1</td>\n",
       "      <td>2141-04-21 10:00:00</td>\n",
       "    </tr>\n",
       "    <tr>\n",
       "      <th>6</th>\n",
       "      <td>10003502</td>\n",
       "      <td>1</td>\n",
       "      <td>2169-08-27 04:00:00</td>\n",
       "    </tr>\n",
       "    <tr>\n",
       "      <th>7</th>\n",
       "      <td>10004422</td>\n",
       "      <td>1</td>\n",
       "      <td>2111-01-18 10:00:00</td>\n",
       "    </tr>\n",
       "    <tr>\n",
       "      <th>8</th>\n",
       "      <td>10004457</td>\n",
       "      <td>1</td>\n",
       "      <td>2141-12-18 10:00:00</td>\n",
       "    </tr>\n",
       "    <tr>\n",
       "      <th>9</th>\n",
       "      <td>10004733</td>\n",
       "      <td>1</td>\n",
       "      <td>2174-05-12 08:00:00</td>\n",
       "    </tr>\n",
       "  </tbody>\n",
       "</table>\n",
       "</div>"
      ],
      "text/plain": [
       "   subject_id  aspirin        starttime_dt\n",
       "0    10000980        1 2189-06-27 11:00:00\n",
       "1    10002013        1 2160-05-19 10:00:00\n",
       "2    10002430        1 2129-06-13 04:00:00\n",
       "3    10002495        1 2141-05-23 08:00:00\n",
       "4    10002527        1 2136-03-25 10:00:00\n",
       "5    10002760        1 2141-04-21 10:00:00\n",
       "6    10003502        1 2169-08-27 04:00:00\n",
       "7    10004422        1 2111-01-18 10:00:00\n",
       "8    10004457        1 2141-12-18 10:00:00\n",
       "9    10004733        1 2174-05-12 08:00:00"
      ]
     },
     "execution_count": 31,
     "metadata": {},
     "output_type": "execute_result"
    }
   ],
   "source": [
    "aspirin_starttime_df = df[df['aspirin']==1].sort_values(by=['subject_id','starttime_dt']).groupby(by='subject_id').first().reset_index()[['subject_id','aspirin','starttime_dt']]\n",
    "aspirin_starttime_df.head(10)"
   ]
  },
  {
   "cell_type": "markdown",
   "id": "d538406e",
   "metadata": {},
   "source": [
    "##### p2y12"
   ]
  },
  {
   "cell_type": "code",
   "execution_count": 32,
   "id": "3f30d93c",
   "metadata": {},
   "outputs": [
    {
     "data": {
      "text/plain": [
       "starttime_dt   2189-06-27 11:00:00\n",
       "Name: 366, dtype: datetime64[ns]"
      ]
     },
     "execution_count": 32,
     "metadata": {},
     "output_type": "execute_result"
    }
   ],
   "source": [
    "df[(df['subject_id']==10000980) & df['p2y12']==1][['starttime_dt']].iloc[0]"
   ]
  },
  {
   "cell_type": "code",
   "execution_count": 33,
   "id": "f7b08d48",
   "metadata": {},
   "outputs": [
    {
     "data": {
      "text/html": [
       "<div>\n",
       "<style scoped>\n",
       "    .dataframe tbody tr th:only-of-type {\n",
       "        vertical-align: middle;\n",
       "    }\n",
       "\n",
       "    .dataframe tbody tr th {\n",
       "        vertical-align: top;\n",
       "    }\n",
       "\n",
       "    .dataframe thead th {\n",
       "        text-align: right;\n",
       "    }\n",
       "</style>\n",
       "<table border=\"1\" class=\"dataframe\">\n",
       "  <thead>\n",
       "    <tr style=\"text-align: right;\">\n",
       "      <th></th>\n",
       "      <th>subject_id</th>\n",
       "      <th>p2y12</th>\n",
       "      <th>starttime_dt</th>\n",
       "    </tr>\n",
       "  </thead>\n",
       "  <tbody>\n",
       "    <tr>\n",
       "      <th>0</th>\n",
       "      <td>10000980</td>\n",
       "      <td>1</td>\n",
       "      <td>2189-06-27 11:00:00</td>\n",
       "    </tr>\n",
       "    <tr>\n",
       "      <th>1</th>\n",
       "      <td>10002013</td>\n",
       "      <td>1</td>\n",
       "      <td>2160-05-19 10:00:00</td>\n",
       "    </tr>\n",
       "    <tr>\n",
       "      <th>2</th>\n",
       "      <td>10002495</td>\n",
       "      <td>1</td>\n",
       "      <td>2141-05-27 06:00:00</td>\n",
       "    </tr>\n",
       "    <tr>\n",
       "      <th>3</th>\n",
       "      <td>10008077</td>\n",
       "      <td>1</td>\n",
       "      <td>2191-06-03 08:00:00</td>\n",
       "    </tr>\n",
       "    <tr>\n",
       "      <th>4</th>\n",
       "      <td>10013310</td>\n",
       "      <td>1</td>\n",
       "      <td>2153-07-05 08:00:00</td>\n",
       "    </tr>\n",
       "    <tr>\n",
       "      <th>5</th>\n",
       "      <td>10013643</td>\n",
       "      <td>1</td>\n",
       "      <td>2200-02-10 08:00:00</td>\n",
       "    </tr>\n",
       "    <tr>\n",
       "      <th>6</th>\n",
       "      <td>10015931</td>\n",
       "      <td>1</td>\n",
       "      <td>2176-11-20 08:00:00</td>\n",
       "    </tr>\n",
       "    <tr>\n",
       "      <th>7</th>\n",
       "      <td>10019385</td>\n",
       "      <td>1</td>\n",
       "      <td>2180-02-22 08:00:00</td>\n",
       "    </tr>\n",
       "    <tr>\n",
       "      <th>8</th>\n",
       "      <td>10022281</td>\n",
       "      <td>1</td>\n",
       "      <td>2125-06-17 10:00:00</td>\n",
       "    </tr>\n",
       "    <tr>\n",
       "      <th>9</th>\n",
       "      <td>10023771</td>\n",
       "      <td>1</td>\n",
       "      <td>2113-08-27 10:00:00</td>\n",
       "    </tr>\n",
       "  </tbody>\n",
       "</table>\n",
       "</div>"
      ],
      "text/plain": [
       "   subject_id  p2y12        starttime_dt\n",
       "0    10000980      1 2189-06-27 11:00:00\n",
       "1    10002013      1 2160-05-19 10:00:00\n",
       "2    10002495      1 2141-05-27 06:00:00\n",
       "3    10008077      1 2191-06-03 08:00:00\n",
       "4    10013310      1 2153-07-05 08:00:00\n",
       "5    10013643      1 2200-02-10 08:00:00\n",
       "6    10015931      1 2176-11-20 08:00:00\n",
       "7    10019385      1 2180-02-22 08:00:00\n",
       "8    10022281      1 2125-06-17 10:00:00\n",
       "9    10023771      1 2113-08-27 10:00:00"
      ]
     },
     "execution_count": 33,
     "metadata": {},
     "output_type": "execute_result"
    }
   ],
   "source": [
    "p2y12_starttime_df = df[df['p2y12']==1].sort_values(by=['subject_id','starttime_dt']).groupby(by='subject_id').first().reset_index()[['subject_id','p2y12','starttime_dt']]\n",
    "p2y12_starttime_df.head(10)"
   ]
  },
  {
   "cell_type": "markdown",
   "id": "9fff0044",
   "metadata": {},
   "source": [
    "##### other_antiplatelet"
   ]
  },
  {
   "cell_type": "code",
   "execution_count": 34,
   "id": "c0aba287",
   "metadata": {},
   "outputs": [
    {
     "data": {
      "text/plain": [
       "starttime_dt   2163-04-25 13:00:00\n",
       "Name: 0, dtype: datetime64[ns]"
      ]
     },
     "execution_count": 34,
     "metadata": {},
     "output_type": "execute_result"
    }
   ],
   "source": [
    "df[(df['subject_id']==10881690) & df['other_antiplatelet']==1][['starttime_dt']].iloc[0]"
   ]
  },
  {
   "cell_type": "code",
   "execution_count": 35,
   "id": "c347b362",
   "metadata": {},
   "outputs": [
    {
     "data": {
      "text/html": [
       "<div>\n",
       "<style scoped>\n",
       "    .dataframe tbody tr th:only-of-type {\n",
       "        vertical-align: middle;\n",
       "    }\n",
       "\n",
       "    .dataframe tbody tr th {\n",
       "        vertical-align: top;\n",
       "    }\n",
       "\n",
       "    .dataframe thead th {\n",
       "        text-align: right;\n",
       "    }\n",
       "</style>\n",
       "<table border=\"1\" class=\"dataframe\">\n",
       "  <thead>\n",
       "    <tr style=\"text-align: right;\">\n",
       "      <th></th>\n",
       "      <th>subject_id</th>\n",
       "      <th>other_antiplatelet</th>\n",
       "      <th>starttime_dt</th>\n",
       "    </tr>\n",
       "  </thead>\n",
       "  <tbody>\n",
       "    <tr>\n",
       "      <th>0</th>\n",
       "      <td>10881690</td>\n",
       "      <td>1</td>\n",
       "      <td>2163-04-25 12:00:00</td>\n",
       "    </tr>\n",
       "    <tr>\n",
       "      <th>1</th>\n",
       "      <td>12588030</td>\n",
       "      <td>1</td>\n",
       "      <td>2129-10-12 20:00:00</td>\n",
       "    </tr>\n",
       "    <tr>\n",
       "      <th>2</th>\n",
       "      <td>12662064</td>\n",
       "      <td>1</td>\n",
       "      <td>2112-04-01 20:00:00</td>\n",
       "    </tr>\n",
       "    <tr>\n",
       "      <th>3</th>\n",
       "      <td>12859888</td>\n",
       "      <td>1</td>\n",
       "      <td>2121-01-03 06:00:00</td>\n",
       "    </tr>\n",
       "    <tr>\n",
       "      <th>4</th>\n",
       "      <td>13660560</td>\n",
       "      <td>1</td>\n",
       "      <td>2154-09-22 18:00:00</td>\n",
       "    </tr>\n",
       "    <tr>\n",
       "      <th>5</th>\n",
       "      <td>13993123</td>\n",
       "      <td>1</td>\n",
       "      <td>2146-07-25 20:00:00</td>\n",
       "    </tr>\n",
       "    <tr>\n",
       "      <th>6</th>\n",
       "      <td>14391747</td>\n",
       "      <td>1</td>\n",
       "      <td>2155-10-11 20:00:00</td>\n",
       "    </tr>\n",
       "    <tr>\n",
       "      <th>7</th>\n",
       "      <td>14837844</td>\n",
       "      <td>1</td>\n",
       "      <td>2119-10-21 21:00:00</td>\n",
       "    </tr>\n",
       "    <tr>\n",
       "      <th>8</th>\n",
       "      <td>15904250</td>\n",
       "      <td>1</td>\n",
       "      <td>2123-10-10 08:00:00</td>\n",
       "    </tr>\n",
       "    <tr>\n",
       "      <th>9</th>\n",
       "      <td>16644308</td>\n",
       "      <td>1</td>\n",
       "      <td>2189-03-29 16:00:00</td>\n",
       "    </tr>\n",
       "  </tbody>\n",
       "</table>\n",
       "</div>"
      ],
      "text/plain": [
       "   subject_id  other_antiplatelet        starttime_dt\n",
       "0    10881690                   1 2163-04-25 12:00:00\n",
       "1    12588030                   1 2129-10-12 20:00:00\n",
       "2    12662064                   1 2112-04-01 20:00:00\n",
       "3    12859888                   1 2121-01-03 06:00:00\n",
       "4    13660560                   1 2154-09-22 18:00:00\n",
       "5    13993123                   1 2146-07-25 20:00:00\n",
       "6    14391747                   1 2155-10-11 20:00:00\n",
       "7    14837844                   1 2119-10-21 21:00:00\n",
       "8    15904250                   1 2123-10-10 08:00:00\n",
       "9    16644308                   1 2189-03-29 16:00:00"
      ]
     },
     "execution_count": 35,
     "metadata": {},
     "output_type": "execute_result"
    }
   ],
   "source": [
    "other_antiplatelet_starttime_df = df[df['other_antiplatelet']==1].sort_values(by=['subject_id','starttime_dt']).groupby(by='subject_id').first().reset_index()[['subject_id','other_antiplatelet','starttime_dt']]\n",
    "other_antiplatelet_starttime_df.head(10)"
   ]
  },
  {
   "cell_type": "markdown",
   "id": "af834ace",
   "metadata": {},
   "source": [
    "### earliest time itemid (hemoglobin)==1\n",
    "itemid = 51002 OR itemid = 51003 OR itemid = 52642 (troponin)\n",
    "<br> itemid = 51222 (hemoglobin)"
   ]
  },
  {
   "cell_type": "code",
   "execution_count": 36,
   "id": "86d356ad",
   "metadata": {},
   "outputs": [
    {
     "data": {
      "text/html": [
       "<div>\n",
       "<style scoped>\n",
       "    .dataframe tbody tr th:only-of-type {\n",
       "        vertical-align: middle;\n",
       "    }\n",
       "\n",
       "    .dataframe tbody tr th {\n",
       "        vertical-align: top;\n",
       "    }\n",
       "\n",
       "    .dataframe thead th {\n",
       "        text-align: right;\n",
       "    }\n",
       "</style>\n",
       "<table border=\"1\" class=\"dataframe\">\n",
       "  <thead>\n",
       "    <tr style=\"text-align: right;\">\n",
       "      <th></th>\n",
       "      <th>subject_id</th>\n",
       "      <th>itemid</th>\n",
       "      <th>charttime_dt</th>\n",
       "    </tr>\n",
       "  </thead>\n",
       "  <tbody>\n",
       "    <tr>\n",
       "      <th>0</th>\n",
       "      <td>10002013</td>\n",
       "      <td>51222</td>\n",
       "      <td>2160-05-18 13:01:00</td>\n",
       "    </tr>\n",
       "    <tr>\n",
       "      <th>1</th>\n",
       "      <td>10002430</td>\n",
       "      <td>51222</td>\n",
       "      <td>2129-06-13 00:48:00</td>\n",
       "    </tr>\n",
       "    <tr>\n",
       "      <th>2</th>\n",
       "      <td>10002495</td>\n",
       "      <td>51222</td>\n",
       "      <td>2141-05-22 21:23:00</td>\n",
       "    </tr>\n",
       "    <tr>\n",
       "      <th>3</th>\n",
       "      <td>10002527</td>\n",
       "      <td>51222</td>\n",
       "      <td>2136-03-24 15:26:00</td>\n",
       "    </tr>\n",
       "    <tr>\n",
       "      <th>4</th>\n",
       "      <td>10002760</td>\n",
       "      <td>51222</td>\n",
       "      <td>2141-04-20 13:30:00</td>\n",
       "    </tr>\n",
       "    <tr>\n",
       "      <th>5</th>\n",
       "      <td>10003502</td>\n",
       "      <td>51222</td>\n",
       "      <td>2169-08-27 05:51:00</td>\n",
       "    </tr>\n",
       "    <tr>\n",
       "      <th>6</th>\n",
       "      <td>10004422</td>\n",
       "      <td>51222</td>\n",
       "      <td>2111-01-17 13:55:00</td>\n",
       "    </tr>\n",
       "    <tr>\n",
       "      <th>7</th>\n",
       "      <td>10004457</td>\n",
       "      <td>51222</td>\n",
       "      <td>2141-12-17 13:30:00</td>\n",
       "    </tr>\n",
       "    <tr>\n",
       "      <th>8</th>\n",
       "      <td>10004733</td>\n",
       "      <td>51222</td>\n",
       "      <td>2174-04-12 13:01:00</td>\n",
       "    </tr>\n",
       "    <tr>\n",
       "      <th>9</th>\n",
       "      <td>10004764</td>\n",
       "      <td>51222</td>\n",
       "      <td>2168-12-04 11:31:00</td>\n",
       "    </tr>\n",
       "  </tbody>\n",
       "</table>\n",
       "</div>"
      ],
      "text/plain": [
       "   subject_id  itemid        charttime_dt\n",
       "0    10002013   51222 2160-05-18 13:01:00\n",
       "1    10002430   51222 2129-06-13 00:48:00\n",
       "2    10002495   51222 2141-05-22 21:23:00\n",
       "3    10002527   51222 2136-03-24 15:26:00\n",
       "4    10002760   51222 2141-04-20 13:30:00\n",
       "5    10003502   51222 2169-08-27 05:51:00\n",
       "6    10004422   51222 2111-01-17 13:55:00\n",
       "7    10004457   51222 2141-12-17 13:30:00\n",
       "8    10004733   51222 2174-04-12 13:01:00\n",
       "9    10004764   51222 2168-12-04 11:31:00"
      ]
     },
     "execution_count": 36,
     "metadata": {},
     "output_type": "execute_result"
    }
   ],
   "source": [
    "hemo_charttime_df = df[df['itemid']==51222].sort_values(by=['subject_id','starttime_dt']).groupby(by='subject_id').first().reset_index()[['subject_id','itemid','charttime_dt']]\n",
    "hemo_charttime_df.head(10)"
   ]
  },
  {
   "cell_type": "markdown",
   "id": "e66fbfd5",
   "metadata": {},
   "source": [
    "### earliest time itemid (troponin) consecutive > 20%"
   ]
  },
  {
   "cell_type": "code",
   "execution_count": 37,
   "id": "c97ebbfb",
   "metadata": {},
   "outputs": [
    {
     "data": {
      "text/plain": [
       "array([51222, 51003], dtype=int64)"
      ]
     },
     "execution_count": 37,
     "metadata": {},
     "output_type": "execute_result"
    }
   ],
   "source": [
    "df['itemid'].unique()"
   ]
  },
  {
   "cell_type": "code",
   "execution_count": 38,
   "id": "558cfd69",
   "metadata": {},
   "outputs": [
    {
     "data": {
      "text/html": [
       "<div>\n",
       "<style scoped>\n",
       "    .dataframe tbody tr th:only-of-type {\n",
       "        vertical-align: middle;\n",
       "    }\n",
       "\n",
       "    .dataframe tbody tr th {\n",
       "        vertical-align: top;\n",
       "    }\n",
       "\n",
       "    .dataframe thead th {\n",
       "        text-align: right;\n",
       "    }\n",
       "</style>\n",
       "<table border=\"1\" class=\"dataframe\">\n",
       "  <thead>\n",
       "    <tr style=\"text-align: right;\">\n",
       "      <th></th>\n",
       "      <th>subject_id</th>\n",
       "      <th>valuenum</th>\n",
       "      <th>charttime_dt</th>\n",
       "    </tr>\n",
       "  </thead>\n",
       "  <tbody>\n",
       "    <tr>\n",
       "      <th>36</th>\n",
       "      <td>12588030</td>\n",
       "      <td>4.42</td>\n",
       "      <td>2129-10-12 12:41:00</td>\n",
       "    </tr>\n",
       "    <tr>\n",
       "      <th>38</th>\n",
       "      <td>12588030</td>\n",
       "      <td>6.39</td>\n",
       "      <td>2129-10-12 20:00:00</td>\n",
       "    </tr>\n",
       "    <tr>\n",
       "      <th>39</th>\n",
       "      <td>12588030</td>\n",
       "      <td>7.51</td>\n",
       "      <td>2129-11-12 04:00:00</td>\n",
       "    </tr>\n",
       "    <tr>\n",
       "      <th>43</th>\n",
       "      <td>12588030</td>\n",
       "      <td>8.78</td>\n",
       "      <td>2129-12-13 05:40:00</td>\n",
       "    </tr>\n",
       "  </tbody>\n",
       "</table>\n",
       "</div>"
      ],
      "text/plain": [
       "    subject_id  valuenum        charttime_dt\n",
       "36    12588030      4.42 2129-10-12 12:41:00\n",
       "38    12588030      6.39 2129-10-12 20:00:00\n",
       "39    12588030      7.51 2129-11-12 04:00:00\n",
       "43    12588030      8.78 2129-12-13 05:40:00"
      ]
     },
     "execution_count": 38,
     "metadata": {},
     "output_type": "execute_result"
    }
   ],
   "source": [
    "df[(df['subject_id']==12588030) & (df['itemid']==51003)][['subject_id','valuenum','charttime_dt']].sort_values(by=['subject_id','charttime_dt']).drop_duplicates(subset=['subject_id','charttime_dt'],keep='first')"
   ]
  },
  {
   "cell_type": "code",
   "execution_count": 39,
   "id": "b8186ffd",
   "metadata": {},
   "outputs": [
    {
     "data": {
      "text/html": [
       "<div>\n",
       "<style scoped>\n",
       "    .dataframe tbody tr th:only-of-type {\n",
       "        vertical-align: middle;\n",
       "    }\n",
       "\n",
       "    .dataframe tbody tr th {\n",
       "        vertical-align: top;\n",
       "    }\n",
       "\n",
       "    .dataframe thead th {\n",
       "        text-align: right;\n",
       "    }\n",
       "</style>\n",
       "<table border=\"1\" class=\"dataframe\">\n",
       "  <thead>\n",
       "    <tr style=\"text-align: right;\">\n",
       "      <th></th>\n",
       "      <th>subject_id</th>\n",
       "      <th>valuenum</th>\n",
       "      <th>charttime_dt</th>\n",
       "    </tr>\n",
       "  </thead>\n",
       "  <tbody>\n",
       "    <tr>\n",
       "      <th>366</th>\n",
       "      <td>10000980</td>\n",
       "      <td>0.11</td>\n",
       "      <td>2189-06-27 12:58:00</td>\n",
       "    </tr>\n",
       "    <tr>\n",
       "      <th>370</th>\n",
       "      <td>10002495</td>\n",
       "      <td>0.69</td>\n",
       "      <td>2141-05-22 21:23:00</td>\n",
       "    </tr>\n",
       "    <tr>\n",
       "      <th>372</th>\n",
       "      <td>10002495</td>\n",
       "      <td>0.84</td>\n",
       "      <td>2141-05-23 01:49:00</td>\n",
       "    </tr>\n",
       "    <tr>\n",
       "      <th>373</th>\n",
       "      <td>10002495</td>\n",
       "      <td>1.75</td>\n",
       "      <td>2141-05-23 05:48:00</td>\n",
       "    </tr>\n",
       "    <tr>\n",
       "      <th>375</th>\n",
       "      <td>10002495</td>\n",
       "      <td>3.11</td>\n",
       "      <td>2141-05-23 10:52:00</td>\n",
       "    </tr>\n",
       "    <tr>\n",
       "      <th>377</th>\n",
       "      <td>10002495</td>\n",
       "      <td>3.75</td>\n",
       "      <td>2141-05-23 16:57:00</td>\n",
       "    </tr>\n",
       "    <tr>\n",
       "      <th>380</th>\n",
       "      <td>10002495</td>\n",
       "      <td>6.74</td>\n",
       "      <td>2141-05-24 06:20:00</td>\n",
       "    </tr>\n",
       "    <tr>\n",
       "      <th>38130</th>\n",
       "      <td>10003502</td>\n",
       "      <td>0.13</td>\n",
       "      <td>2169-08-27 05:51:00</td>\n",
       "    </tr>\n",
       "    <tr>\n",
       "      <th>38198</th>\n",
       "      <td>10007058</td>\n",
       "      <td>0.70</td>\n",
       "      <td>2167-08-11 00:19:00</td>\n",
       "    </tr>\n",
       "    <tr>\n",
       "      <th>38200</th>\n",
       "      <td>10007058</td>\n",
       "      <td>1.37</td>\n",
       "      <td>2167-08-11 03:58:00</td>\n",
       "    </tr>\n",
       "  </tbody>\n",
       "</table>\n",
       "</div>"
      ],
      "text/plain": [
       "       subject_id  valuenum        charttime_dt\n",
       "366      10000980      0.11 2189-06-27 12:58:00\n",
       "370      10002495      0.69 2141-05-22 21:23:00\n",
       "372      10002495      0.84 2141-05-23 01:49:00\n",
       "373      10002495      1.75 2141-05-23 05:48:00\n",
       "375      10002495      3.11 2141-05-23 10:52:00\n",
       "377      10002495      3.75 2141-05-23 16:57:00\n",
       "380      10002495      6.74 2141-05-24 06:20:00\n",
       "38130    10003502      0.13 2169-08-27 05:51:00\n",
       "38198    10007058      0.70 2167-08-11 00:19:00\n",
       "38200    10007058      1.37 2167-08-11 03:58:00"
      ]
     },
     "execution_count": 39,
     "metadata": {},
     "output_type": "execute_result"
    }
   ],
   "source": [
    "trop_inc_df = df[(df['itemid']==51003)][['subject_id','valuenum','charttime_dt']].sort_values(by=['subject_id','charttime_dt']).drop_duplicates(subset=['subject_id','charttime_dt'],keep='first')\n",
    "trop_inc_df.head(10)"
   ]
  },
  {
   "cell_type": "code",
   "execution_count": 47,
   "id": "128ea3d8",
   "metadata": {},
   "outputs": [],
   "source": [
    "trop_inc_df['charttime_diff'] = trop_inc_df['charttime_dt'].diff().dt.seconds.div(3600)\n",
    "trop_inc_df['trop_pct'] = trop_inc_df['valuenum'].pct_change()"
   ]
  },
  {
   "cell_type": "code",
   "execution_count": 48,
   "id": "de122b35",
   "metadata": {},
   "outputs": [
    {
     "data": {
      "text/html": [
       "<div>\n",
       "<style scoped>\n",
       "    .dataframe tbody tr th:only-of-type {\n",
       "        vertical-align: middle;\n",
       "    }\n",
       "\n",
       "    .dataframe tbody tr th {\n",
       "        vertical-align: top;\n",
       "    }\n",
       "\n",
       "    .dataframe thead th {\n",
       "        text-align: right;\n",
       "    }\n",
       "</style>\n",
       "<table border=\"1\" class=\"dataframe\">\n",
       "  <thead>\n",
       "    <tr style=\"text-align: right;\">\n",
       "      <th></th>\n",
       "      <th>subject_id</th>\n",
       "      <th>valuenum</th>\n",
       "      <th>charttime_dt</th>\n",
       "      <th>charttime_diff</th>\n",
       "      <th>trop_pct</th>\n",
       "    </tr>\n",
       "  </thead>\n",
       "  <tbody>\n",
       "    <tr>\n",
       "      <th>366</th>\n",
       "      <td>10000980</td>\n",
       "      <td>0.11</td>\n",
       "      <td>2189-06-27 12:58:00</td>\n",
       "      <td>NaN</td>\n",
       "      <td>NaN</td>\n",
       "    </tr>\n",
       "    <tr>\n",
       "      <th>370</th>\n",
       "      <td>10002495</td>\n",
       "      <td>0.69</td>\n",
       "      <td>2141-05-22 21:23:00</td>\n",
       "      <td>8.416667</td>\n",
       "      <td>5.272727</td>\n",
       "    </tr>\n",
       "    <tr>\n",
       "      <th>372</th>\n",
       "      <td>10002495</td>\n",
       "      <td>0.84</td>\n",
       "      <td>2141-05-23 01:49:00</td>\n",
       "      <td>4.433333</td>\n",
       "      <td>0.217391</td>\n",
       "    </tr>\n",
       "    <tr>\n",
       "      <th>373</th>\n",
       "      <td>10002495</td>\n",
       "      <td>1.75</td>\n",
       "      <td>2141-05-23 05:48:00</td>\n",
       "      <td>3.983333</td>\n",
       "      <td>1.083333</td>\n",
       "    </tr>\n",
       "    <tr>\n",
       "      <th>375</th>\n",
       "      <td>10002495</td>\n",
       "      <td>3.11</td>\n",
       "      <td>2141-05-23 10:52:00</td>\n",
       "      <td>5.066667</td>\n",
       "      <td>0.777143</td>\n",
       "    </tr>\n",
       "    <tr>\n",
       "      <th>377</th>\n",
       "      <td>10002495</td>\n",
       "      <td>3.75</td>\n",
       "      <td>2141-05-23 16:57:00</td>\n",
       "      <td>6.083333</td>\n",
       "      <td>0.205788</td>\n",
       "    </tr>\n",
       "    <tr>\n",
       "      <th>380</th>\n",
       "      <td>10002495</td>\n",
       "      <td>6.74</td>\n",
       "      <td>2141-05-24 06:20:00</td>\n",
       "      <td>13.383333</td>\n",
       "      <td>0.797333</td>\n",
       "    </tr>\n",
       "    <tr>\n",
       "      <th>38130</th>\n",
       "      <td>10003502</td>\n",
       "      <td>0.13</td>\n",
       "      <td>2169-08-27 05:51:00</td>\n",
       "      <td>23.516667</td>\n",
       "      <td>-0.980712</td>\n",
       "    </tr>\n",
       "    <tr>\n",
       "      <th>38198</th>\n",
       "      <td>10007058</td>\n",
       "      <td>0.70</td>\n",
       "      <td>2167-08-11 00:19:00</td>\n",
       "      <td>18.466667</td>\n",
       "      <td>4.384615</td>\n",
       "    </tr>\n",
       "    <tr>\n",
       "      <th>38200</th>\n",
       "      <td>10007058</td>\n",
       "      <td>1.37</td>\n",
       "      <td>2167-08-11 03:58:00</td>\n",
       "      <td>3.650000</td>\n",
       "      <td>0.957143</td>\n",
       "    </tr>\n",
       "  </tbody>\n",
       "</table>\n",
       "</div>"
      ],
      "text/plain": [
       "       subject_id  valuenum        charttime_dt  charttime_diff  trop_pct\n",
       "366      10000980      0.11 2189-06-27 12:58:00             NaN       NaN\n",
       "370      10002495      0.69 2141-05-22 21:23:00        8.416667  5.272727\n",
       "372      10002495      0.84 2141-05-23 01:49:00        4.433333  0.217391\n",
       "373      10002495      1.75 2141-05-23 05:48:00        3.983333  1.083333\n",
       "375      10002495      3.11 2141-05-23 10:52:00        5.066667  0.777143\n",
       "377      10002495      3.75 2141-05-23 16:57:00        6.083333  0.205788\n",
       "380      10002495      6.74 2141-05-24 06:20:00       13.383333  0.797333\n",
       "38130    10003502      0.13 2169-08-27 05:51:00       23.516667 -0.980712\n",
       "38198    10007058      0.70 2167-08-11 00:19:00       18.466667  4.384615\n",
       "38200    10007058      1.37 2167-08-11 03:58:00        3.650000  0.957143"
      ]
     },
     "execution_count": 48,
     "metadata": {},
     "output_type": "execute_result"
    }
   ],
   "source": [
    "trop_inc_df.head(10)"
   ]
  },
  {
   "cell_type": "code",
   "execution_count": 49,
   "id": "54d257ca",
   "metadata": {},
   "outputs": [
    {
     "data": {
      "text/html": [
       "<div>\n",
       "<style scoped>\n",
       "    .dataframe tbody tr th:only-of-type {\n",
       "        vertical-align: middle;\n",
       "    }\n",
       "\n",
       "    .dataframe tbody tr th {\n",
       "        vertical-align: top;\n",
       "    }\n",
       "\n",
       "    .dataframe thead th {\n",
       "        text-align: right;\n",
       "    }\n",
       "</style>\n",
       "<table border=\"1\" class=\"dataframe\">\n",
       "  <thead>\n",
       "    <tr style=\"text-align: right;\">\n",
       "      <th></th>\n",
       "      <th>subject_id</th>\n",
       "      <th>valuenum</th>\n",
       "      <th>charttime_dt</th>\n",
       "      <th>charttime_diff</th>\n",
       "      <th>trop_pct</th>\n",
       "    </tr>\n",
       "  </thead>\n",
       "  <tbody>\n",
       "    <tr>\n",
       "      <th>370</th>\n",
       "      <td>10002495</td>\n",
       "      <td>0.69</td>\n",
       "      <td>2141-05-22 21:23:00</td>\n",
       "      <td>8.416667</td>\n",
       "      <td>5.272727</td>\n",
       "    </tr>\n",
       "    <tr>\n",
       "      <th>372</th>\n",
       "      <td>10002495</td>\n",
       "      <td>0.84</td>\n",
       "      <td>2141-05-23 01:49:00</td>\n",
       "      <td>4.433333</td>\n",
       "      <td>0.217391</td>\n",
       "    </tr>\n",
       "    <tr>\n",
       "      <th>373</th>\n",
       "      <td>10002495</td>\n",
       "      <td>1.75</td>\n",
       "      <td>2141-05-23 05:48:00</td>\n",
       "      <td>3.983333</td>\n",
       "      <td>1.083333</td>\n",
       "    </tr>\n",
       "    <tr>\n",
       "      <th>375</th>\n",
       "      <td>10002495</td>\n",
       "      <td>3.11</td>\n",
       "      <td>2141-05-23 10:52:00</td>\n",
       "      <td>5.066667</td>\n",
       "      <td>0.777143</td>\n",
       "    </tr>\n",
       "    <tr>\n",
       "      <th>377</th>\n",
       "      <td>10002495</td>\n",
       "      <td>3.75</td>\n",
       "      <td>2141-05-23 16:57:00</td>\n",
       "      <td>6.083333</td>\n",
       "      <td>0.205788</td>\n",
       "    </tr>\n",
       "    <tr>\n",
       "      <th>...</th>\n",
       "      <td>...</td>\n",
       "      <td>...</td>\n",
       "      <td>...</td>\n",
       "      <td>...</td>\n",
       "      <td>...</td>\n",
       "    </tr>\n",
       "    <tr>\n",
       "      <th>244959</th>\n",
       "      <td>19993336</td>\n",
       "      <td>1.00</td>\n",
       "      <td>2171-07-09 10:43:00</td>\n",
       "      <td>7.033333</td>\n",
       "      <td>-0.107143</td>\n",
       "    </tr>\n",
       "    <tr>\n",
       "      <th>245154</th>\n",
       "      <td>19997293</td>\n",
       "      <td>0.08</td>\n",
       "      <td>2123-10-14 17:00:00</td>\n",
       "      <td>8.750000</td>\n",
       "      <td>-0.836735</td>\n",
       "    </tr>\n",
       "    <tr>\n",
       "      <th>245156</th>\n",
       "      <td>19997293</td>\n",
       "      <td>0.07</td>\n",
       "      <td>2123-10-15 02:02:00</td>\n",
       "      <td>9.033333</td>\n",
       "      <td>-0.125000</td>\n",
       "    </tr>\n",
       "    <tr>\n",
       "      <th>38080</th>\n",
       "      <td>19997473</td>\n",
       "      <td>3.08</td>\n",
       "      <td>2173-09-14 04:56:00</td>\n",
       "      <td>6.100000</td>\n",
       "      <td>-0.012821</td>\n",
       "    </tr>\n",
       "    <tr>\n",
       "      <th>245341</th>\n",
       "      <td>19997752</td>\n",
       "      <td>0.50</td>\n",
       "      <td>2128-05-03 07:47:00</td>\n",
       "      <td>4.883333</td>\n",
       "      <td>0.785714</td>\n",
       "    </tr>\n",
       "  </tbody>\n",
       "</table>\n",
       "<p>10812 rows × 5 columns</p>\n",
       "</div>"
      ],
      "text/plain": [
       "        subject_id  valuenum        charttime_dt  charttime_diff  trop_pct\n",
       "370       10002495      0.69 2141-05-22 21:23:00        8.416667  5.272727\n",
       "372       10002495      0.84 2141-05-23 01:49:00        4.433333  0.217391\n",
       "373       10002495      1.75 2141-05-23 05:48:00        3.983333  1.083333\n",
       "375       10002495      3.11 2141-05-23 10:52:00        5.066667  0.777143\n",
       "377       10002495      3.75 2141-05-23 16:57:00        6.083333  0.205788\n",
       "...            ...       ...                 ...             ...       ...\n",
       "244959    19993336      1.00 2171-07-09 10:43:00        7.033333 -0.107143\n",
       "245154    19997293      0.08 2123-10-14 17:00:00        8.750000 -0.836735\n",
       "245156    19997293      0.07 2123-10-15 02:02:00        9.033333 -0.125000\n",
       "38080     19997473      3.08 2173-09-14 04:56:00        6.100000 -0.012821\n",
       "245341    19997752      0.50 2128-05-03 07:47:00        4.883333  0.785714\n",
       "\n",
       "[10812 rows x 5 columns]"
      ]
     },
     "execution_count": 49,
     "metadata": {},
     "output_type": "execute_result"
    }
   ],
   "source": [
    "trop_inc_df[trop_inc_df['charttime_diff'] <= (12)]"
   ]
  },
  {
   "cell_type": "markdown",
   "id": "9d3c3817",
   "metadata": {},
   "source": [
    "### final df"
   ]
  },
  {
   "cell_type": "code",
   "execution_count": 44,
   "id": "19a52125",
   "metadata": {},
   "outputs": [
    {
     "name": "stdout",
     "output_type": "stream",
     "text": [
      "<class 'pandas.core.frame.DataFrame'>\n",
      "RangeIndex: 245361 entries, 0 to 245360\n",
      "Data columns (total 27 columns):\n",
      " #   Column                Non-Null Count   Dtype         \n",
      "---  ------                --------------   -----         \n",
      " 0   subject_id            245361 non-null  int64         \n",
      " 1   hospital_expire_flag  245361 non-null  int64         \n",
      " 2   deathtime             35338 non-null   object        \n",
      " 3   gender                245361 non-null  object        \n",
      " 4   anchor_age            245361 non-null  int64         \n",
      " 5   dod                   91201 non-null   object        \n",
      " 6   valuenum              245361 non-null  float64       \n",
      " 7   valueuom              245361 non-null  object        \n",
      " 8   itemid                245361 non-null  int64         \n",
      " 9   charttime             245361 non-null  object        \n",
      " 10  storetime             245361 non-null  object        \n",
      " 11  icu_intime            245361 non-null  object        \n",
      " 12  icu_outtime           245361 non-null  object        \n",
      " 13  aspirin               245361 non-null  int64         \n",
      " 14  p2y12                 245361 non-null  int64         \n",
      " 15  other_antiplatelet    245361 non-null  int64         \n",
      " 16  starttime             245361 non-null  object        \n",
      " 17  stoptime              245319 non-null  object        \n",
      " 18  deathtime_dt          35338 non-null   datetime64[ns]\n",
      " 19  charttime_dt          245361 non-null  datetime64[ns]\n",
      " 20  storetime_dt          245361 non-null  datetime64[ns]\n",
      " 21  icu_intime_dt         245361 non-null  datetime64[ns]\n",
      " 22  icu_outtime_dt        245361 non-null  datetime64[ns]\n",
      " 23  starttime_dt          245361 non-null  datetime64[ns]\n",
      " 24  stoptime_dt           245319 non-null  datetime64[ns]\n",
      " 25  mortality_dod         245361 non-null  int64         \n",
      " 26  mortality_deathtime   245361 non-null  int64         \n",
      "dtypes: datetime64[ns](7), float64(1), int64(9), object(10)\n",
      "memory usage: 50.5+ MB\n"
     ]
    }
   ],
   "source": [
    "df.info()"
   ]
  },
  {
   "cell_type": "code",
   "execution_count": 45,
   "id": "1d6a303d",
   "metadata": {},
   "outputs": [],
   "source": [
    "# df['subject_id','gender','anchor_age','mortality_dod','mortality_death_time']"
   ]
  },
  {
   "cell_type": "markdown",
   "id": "821895df",
   "metadata": {},
   "source": [
    "#### export final dataset"
   ]
  },
  {
   "cell_type": "code",
   "execution_count": 46,
   "id": "e7d69e65",
   "metadata": {},
   "outputs": [],
   "source": [
    "# final_df.to_csv('.\\data\\final_df.csv')"
   ]
  },
  {
   "cell_type": "code",
   "execution_count": null,
   "id": "9ecf7887",
   "metadata": {},
   "outputs": [],
   "source": []
  }
 ],
 "metadata": {
  "kernelspec": {
   "display_name": "Python 3",
   "language": "python",
   "name": "python3"
  },
  "language_info": {
   "codemirror_mode": {
    "name": "ipython",
    "version": 3
   },
   "file_extension": ".py",
   "mimetype": "text/x-python",
   "name": "python",
   "nbconvert_exporter": "python",
   "pygments_lexer": "ipython3",
   "version": "3.8.8"
  },
  "toc": {
   "base_numbering": 1,
   "nav_menu": {},
   "number_sections": true,
   "sideBar": true,
   "skip_h1_title": false,
   "title_cell": "Table of Contents",
   "title_sidebar": "Contents",
   "toc_cell": false,
   "toc_position": {},
   "toc_section_display": true,
   "toc_window_display": true
  }
 },
 "nbformat": 4,
 "nbformat_minor": 5
}
